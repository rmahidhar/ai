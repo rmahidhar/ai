{
 "cells": [
  {
   "cell_type": "markdown",
   "metadata": {},
   "source": [
    "## Implementation based on the following paper\n",
    "https://papers.nips.cc/paper_files/paper/2000/file/728f206c2a01bf572b5940d7d9a8fa4c-Paper.pdf"
   ]
  },
  {
   "cell_type": "code",
   "execution_count": 1,
   "metadata": {},
   "outputs": [],
   "source": [
    "import torch\n",
    "import torch.nn.functional as F\n",
    "import matplotlib.pyplot as plt\n",
    "%matplotlib inline\n"
   ]
  },
  {
   "cell_type": "code",
   "execution_count": 2,
   "metadata": {},
   "outputs": [
    {
     "data": {
      "text/plain": [
       "['emma',\n",
       " 'olivia',\n",
       " 'ava',\n",
       " 'isabella',\n",
       " 'sophia',\n",
       " 'charlotte',\n",
       " 'mia',\n",
       " 'amelia',\n",
       " 'harper',\n",
       " 'evelyn']"
      ]
     },
     "execution_count": 2,
     "metadata": {},
     "output_type": "execute_result"
    }
   ],
   "source": [
    "words = open(\"names.txt\", \"r\").read().splitlines()\n",
    "words[:10]"
   ]
  },
  {
   "cell_type": "code",
   "execution_count": 3,
   "metadata": {},
   "outputs": [
    {
     "data": {
      "text/plain": [
       "32033"
      ]
     },
     "execution_count": 3,
     "metadata": {},
     "output_type": "execute_result"
    }
   ],
   "source": [
    "len(words)"
   ]
  },
  {
   "cell_type": "code",
   "execution_count": 4,
   "metadata": {},
   "outputs": [
    {
     "name": "stdout",
     "output_type": "stream",
     "text": [
      "{1: 'a', 2: 'b', 3: 'c', 4: 'd', 5: 'e', 6: 'f', 7: 'g', 8: 'h', 9: 'i', 10: 'j', 11: 'k', 12: 'l', 13: 'm', 14: 'n', 15: 'o', 16: 'p', 17: 'q', 18: 'r', 19: 's', 20: 't', 21: 'u', 22: 'v', 23: 'w', 24: 'x', 25: 'y', 26: 'z', 0: '.'}\n"
     ]
    }
   ],
   "source": [
    "chars = sorted(list(set(\"\".join(words))))\n",
    "stoi = {s: i+1 for i,s in enumerate(chars)}\n",
    "stoi[\".\"] = 0\n",
    "itos = {i: s for s, i in stoi.items()}\n",
    "print(itos)"
   ]
  },
  {
   "cell_type": "code",
   "execution_count": 5,
   "metadata": {},
   "outputs": [
    {
     "name": "stdout",
     "output_type": "stream",
     "text": [
      "emma\n",
      "... ---> e\n",
      "..e ---> m\n",
      ".em ---> m\n",
      "emm ---> a\n",
      "mma ---> .\n",
      "olivia\n",
      "... ---> o\n",
      "..o ---> l\n",
      ".ol ---> i\n",
      "oli ---> v\n",
      "liv ---> i\n",
      "ivi ---> a\n",
      "via ---> .\n",
      "ava\n",
      "... ---> a\n",
      "..a ---> v\n",
      ".av ---> a\n",
      "ava ---> .\n",
      "isabella\n",
      "... ---> i\n",
      "..i ---> s\n",
      ".is ---> a\n",
      "isa ---> b\n",
      "sab ---> e\n",
      "abe ---> l\n",
      "bel ---> l\n",
      "ell ---> a\n",
      "lla ---> .\n",
      "sophia\n",
      "... ---> s\n",
      "..s ---> o\n",
      ".so ---> p\n",
      "sop ---> h\n",
      "oph ---> i\n",
      "phi ---> a\n",
      "hia ---> .\n"
     ]
    }
   ],
   "source": [
    "# build a dataset\n",
    "\n",
    "block_size = 3 # context length: how many characters do we take to predict the next one.\n",
    "X, Y = [], []\n",
    "\n",
    "for w in words[:5]:\n",
    "    print(w)\n",
    "    context = [0] * block_size\n",
    "    for ch in w + \".\":\n",
    "        ix = stoi[ch]\n",
    "        X.append(context)\n",
    "        Y.append(ix)\n",
    "        print(\"\".join(itos[i] for i in context), '--->', itos[ix])\n",
    "        context = context[1:] + [ix] # crop and append\n",
    "\n",
    "X = torch.tensor(X)\n",
    "Y = torch.tensor(Y)"
   ]
  },
  {
   "cell_type": "code",
   "execution_count": 24,
   "metadata": {},
   "outputs": [
    {
     "data": {
      "text/plain": [
       "(torch.Size([32, 3]), torch.Size([32]))"
      ]
     },
     "execution_count": 24,
     "metadata": {},
     "output_type": "execute_result"
    }
   ],
   "source": [
    "X.shape, Y.shape"
   ]
  },
  {
   "cell_type": "code",
   "execution_count": 6,
   "metadata": {},
   "outputs": [],
   "source": [
    "# Embedding table\n",
    "C = torch.randn((27 ,2))"
   ]
  },
  {
   "cell_type": "code",
   "execution_count": 7,
   "metadata": {},
   "outputs": [
    {
     "data": {
      "text/plain": [
       "tensor([[ 0.1097,  0.3826],\n",
       "        [-0.3711,  0.2412],\n",
       "        [ 0.3327, -0.1799],\n",
       "        [ 0.8792,  0.6219],\n",
       "        [-1.1146,  1.5272],\n",
       "        [-2.7822, -1.6675],\n",
       "        [-0.1862,  0.9141],\n",
       "        [-2.2256,  1.1806],\n",
       "        [ 0.1432,  0.1683],\n",
       "        [ 1.0883,  0.3478],\n",
       "        [-0.0763,  0.8585],\n",
       "        [ 0.3538,  1.4879],\n",
       "        [ 0.4308, -1.1382],\n",
       "        [-0.5053, -2.1654],\n",
       "        [-1.3803, -0.0195],\n",
       "        [ 1.3524, -2.1868],\n",
       "        [-0.0960, -0.7126],\n",
       "        [ 1.4068, -1.7963],\n",
       "        [-0.0477,  1.1234],\n",
       "        [-0.3430, -1.1196],\n",
       "        [ 1.8538,  0.9668],\n",
       "        [-0.1697, -1.7828],\n",
       "        [ 0.5066,  0.0654],\n",
       "        [ 1.5578,  1.5257],\n",
       "        [ 0.7206,  3.5816],\n",
       "        [-0.1153,  0.1753],\n",
       "        [-1.6474,  0.7484]])"
      ]
     },
     "execution_count": 7,
     "metadata": {},
     "output_type": "execute_result"
    }
   ],
   "source": [
    "C"
   ]
  },
  {
   "cell_type": "code",
   "execution_count": 8,
   "metadata": {},
   "outputs": [
    {
     "data": {
      "text/plain": [
       "tensor([-2.7822, -1.6675])"
      ]
     },
     "execution_count": 8,
     "metadata": {},
     "output_type": "execute_result"
    }
   ],
   "source": [
    "C[5]"
   ]
  },
  {
   "cell_type": "code",
   "execution_count": 9,
   "metadata": {},
   "outputs": [
    {
     "data": {
      "text/plain": [
       "torch.Size([32, 3, 2])"
      ]
     },
     "execution_count": 9,
     "metadata": {},
     "output_type": "execute_result"
    }
   ],
   "source": [
    "C[X].shape"
   ]
  },
  {
   "cell_type": "code",
   "execution_count": 10,
   "metadata": {},
   "outputs": [
    {
     "data": {
      "text/plain": [
       "tensor(1)"
      ]
     },
     "execution_count": 10,
     "metadata": {},
     "output_type": "execute_result"
    }
   ],
   "source": [
    "X[13, 2]"
   ]
  },
  {
   "cell_type": "code",
   "execution_count": 11,
   "metadata": {},
   "outputs": [
    {
     "data": {
      "text/plain": [
       "tensor([-0.3711,  0.2412])"
      ]
     },
     "execution_count": 11,
     "metadata": {},
     "output_type": "execute_result"
    }
   ],
   "source": [
    "C[X][13, 2]"
   ]
  },
  {
   "cell_type": "code",
   "execution_count": 17,
   "metadata": {},
   "outputs": [
    {
     "data": {
      "text/plain": [
       "32"
      ]
     },
     "execution_count": 17,
     "metadata": {},
     "output_type": "execute_result"
    }
   ],
   "source": [
    "emb = C[X]\n",
    "emb.shape[0]"
   ]
  },
  {
   "cell_type": "code",
   "execution_count": 14,
   "metadata": {},
   "outputs": [],
   "source": [
    "W1 = torch.randn((6, 100))\n",
    "b1 = torch.randn(100)\n"
   ]
  },
  {
   "cell_type": "code",
   "execution_count": 22,
   "metadata": {},
   "outputs": [],
   "source": [
    "# we need to transform embedding table 32x3x2 -> 32x6\n",
    "# torch.cat([emb[:, 0, :], emb[:, 1, :], emb[:, 2, :]], dim=1)\n",
    "# torch.cat(torch.unbind(emb, 1), 1)\n",
    "# emb.view(emb.shape[0], 6)\n",
    "\n",
    "h = torch.tanh(emb.view(-1, 6) @ W1 + b1)"
   ]
  },
  {
   "cell_type": "code",
   "execution_count": 23,
   "metadata": {},
   "outputs": [
    {
     "data": {
      "text/plain": [
       "tensor([[-0.2947,  0.9714, -0.7229,  ..., -0.4420,  0.8485,  0.0809],\n",
       "        [ 0.9875,  1.0000,  0.9999,  ...,  0.4641,  1.0000, -0.9950],\n",
       "        [-0.9792,  0.9846, -1.0000,  ..., -0.9951, -0.9725, -0.5978],\n",
       "        ...,\n",
       "        [ 0.8485, -0.9993, -0.8316,  ...,  0.1029, -0.5482,  0.0709],\n",
       "        [-0.8688, -0.9808, -0.9890,  ..., -0.9946, -0.6533, -0.5133],\n",
       "        [ 0.6027,  0.9853,  0.9491,  ..., -0.0245,  0.9973, -0.6962]])"
      ]
     },
     "execution_count": 23,
     "metadata": {},
     "output_type": "execute_result"
    }
   ],
   "source": [
    "h"
   ]
  },
  {
   "cell_type": "code",
   "execution_count": 25,
   "metadata": {},
   "outputs": [
    {
     "data": {
      "text/plain": [
       "torch.Size([32, 100])"
      ]
     },
     "execution_count": 25,
     "metadata": {},
     "output_type": "execute_result"
    }
   ],
   "source": [
    "h.shape"
   ]
  },
  {
   "cell_type": "code",
   "execution_count": 26,
   "metadata": {},
   "outputs": [],
   "source": [
    "W2 = torch.randn((100, 27))\n",
    "b2 = torch.randn(27)\n"
   ]
  },
  {
   "cell_type": "code",
   "execution_count": 27,
   "metadata": {},
   "outputs": [],
   "source": [
    "logits = h @ W2 + b2"
   ]
  },
  {
   "cell_type": "code",
   "execution_count": 28,
   "metadata": {},
   "outputs": [
    {
     "data": {
      "text/plain": [
       "torch.Size([32, 27])"
      ]
     },
     "execution_count": 28,
     "metadata": {},
     "output_type": "execute_result"
    }
   ],
   "source": [
    "logits.shape"
   ]
  },
  {
   "cell_type": "code",
   "execution_count": 29,
   "metadata": {},
   "outputs": [],
   "source": [
    "counts = logits.exp()"
   ]
  },
  {
   "cell_type": "code",
   "execution_count": 30,
   "metadata": {},
   "outputs": [],
   "source": [
    "probs = counts / counts.sum(dim=1, keepdim=True)"
   ]
  },
  {
   "cell_type": "code",
   "execution_count": 31,
   "metadata": {},
   "outputs": [
    {
     "data": {
      "text/plain": [
       "torch.Size([32, 27])"
      ]
     },
     "execution_count": 31,
     "metadata": {},
     "output_type": "execute_result"
    }
   ],
   "source": [
    "probs.shape"
   ]
  },
  {
   "cell_type": "code",
   "execution_count": 32,
   "metadata": {},
   "outputs": [
    {
     "data": {
      "text/plain": [
       "tensor([[1.4616e-04, 3.5440e-06, 9.3983e-07, 1.0128e-01, 2.1622e-08, 1.8031e-04,\n",
       "         2.8244e-08, 5.4592e-10, 4.5916e-13, 3.0577e-11, 4.3499e-04, 1.1802e-03,\n",
       "         1.2103e-01, 5.3123e-07, 1.0557e-05, 4.2715e-09, 2.5693e-01, 1.4311e-02,\n",
       "         5.0093e-01, 2.6923e-03, 4.1850e-08, 1.0755e-08, 8.6709e-04, 1.0356e-07,\n",
       "         1.9983e-08, 9.5897e-08, 5.3842e-09],\n",
       "        [4.1992e-11, 9.4541e-01, 7.4545e-14, 1.5004e-15, 1.0551e-14, 4.4094e-06,\n",
       "         5.3154e-15, 1.7207e-12, 4.4678e-08, 3.3334e-17, 6.4356e-12, 3.0236e-03,\n",
       "         7.9041e-07, 4.7856e-02, 2.9663e-16, 6.9267e-12, 1.5311e-16, 1.7057e-06,\n",
       "         5.1616e-17, 3.0568e-11, 5.5476e-08, 3.6987e-03, 5.4783e-12, 3.2762e-10,\n",
       "         1.9207e-07, 1.1889e-11, 1.5970e-09],\n",
       "        [1.3328e-10, 4.8595e-11, 4.8000e-16, 1.8653e-16, 1.4951e-07, 5.1464e-12,\n",
       "         2.0278e-11, 1.6767e-15, 7.7263e-13, 6.1446e-22, 1.0959e-11, 2.5626e-02,\n",
       "         5.7889e-13, 9.7407e-01, 7.3372e-12, 1.2811e-21, 8.6118e-14, 3.5969e-15,\n",
       "         5.6431e-13, 4.8587e-15, 1.6276e-08, 1.2977e-06, 3.0714e-04, 4.8851e-08,\n",
       "         9.3308e-11, 4.6299e-16, 1.0454e-18],\n",
       "        [6.3487e-15, 6.5491e-14, 2.0385e-06, 5.7963e-15, 7.8476e-05, 7.9590e-10,\n",
       "         1.3725e-12, 4.0610e-11, 1.0227e-07, 7.4181e-11, 6.1523e-10, 7.3736e-11,\n",
       "         2.4691e-07, 3.9487e-05, 5.4171e-10, 1.6675e-15, 1.7064e-10, 1.4203e-16,\n",
       "         2.6060e-09, 3.1188e-11, 4.5818e-06, 2.5496e-02, 9.7405e-01, 6.5445e-12,\n",
       "         5.3931e-08, 3.3323e-04, 3.0139e-13],\n",
       "        [7.8243e-12, 1.6484e-16, 1.9199e-11, 8.6743e-12, 2.7702e-12, 2.7775e-05,\n",
       "         1.5752e-09, 2.8584e-15, 4.8295e-03, 3.4594e-08, 3.9582e-08, 2.4897e-12,\n",
       "         1.1686e-06, 1.1273e-04, 2.2455e-11, 6.2314e-11, 1.4799e-05, 9.5469e-12,\n",
       "         1.0258e-06, 1.4401e-13, 2.5582e-16, 1.3853e-04, 5.7124e-01, 2.0548e-14,\n",
       "         3.4656e-08, 4.2364e-01, 2.5819e-07],\n",
       "        [1.4616e-04, 3.5440e-06, 9.3983e-07, 1.0128e-01, 2.1622e-08, 1.8031e-04,\n",
       "         2.8244e-08, 5.4592e-10, 4.5916e-13, 3.0577e-11, 4.3499e-04, 1.1802e-03,\n",
       "         1.2103e-01, 5.3123e-07, 1.0557e-05, 4.2715e-09, 2.5693e-01, 1.4311e-02,\n",
       "         5.0093e-01, 2.6923e-03, 4.1850e-08, 1.0755e-08, 8.6709e-04, 1.0356e-07,\n",
       "         1.9983e-08, 9.5897e-08, 5.3842e-09],\n",
       "        [5.7761e-01, 3.6251e-01, 1.8905e-07, 1.0146e-11, 2.9826e-08, 9.9516e-09,\n",
       "         1.4867e-15, 1.8001e-13, 1.8298e-09, 5.4238e-12, 1.0239e-03, 4.1094e-05,\n",
       "         8.8750e-09, 5.9225e-09, 2.2122e-02, 3.9686e-09, 4.5017e-06, 6.3556e-09,\n",
       "         6.9636e-06, 3.1244e-08, 3.5887e-06, 1.1772e-11, 2.1776e-06, 3.2153e-02,\n",
       "         2.0803e-09, 4.5291e-03, 3.5963e-09],\n",
       "        [4.2500e-16, 1.8895e-08, 5.6984e-09, 1.1643e-10, 1.1741e-10, 2.1491e-10,\n",
       "         4.0048e-14, 1.0828e-14, 3.1007e-12, 2.8313e-13, 2.3650e-04, 2.0417e-15,\n",
       "         9.3002e-09, 5.6908e-08, 4.5771e-08, 5.1821e-14, 3.0116e-04, 2.4528e-09,\n",
       "         4.1392e-13, 6.5014e-10, 2.6254e-05, 5.3954e-13, 9.9942e-01, 2.6120e-08,\n",
       "         1.2613e-08, 1.4857e-05, 4.7878e-14],\n",
       "        [3.4778e-15, 2.9352e-18, 2.9382e-11, 9.3051e-17, 7.4032e-17, 6.4494e-14,\n",
       "         8.6705e-18, 9.2916e-19, 5.1180e-10, 4.0937e-16, 2.2766e-08, 2.0881e-16,\n",
       "         1.0047e-11, 1.3766e-12, 5.3078e-10, 5.2551e-13, 9.9864e-01, 1.6369e-12,\n",
       "         1.0405e-09, 7.9149e-13, 1.8751e-18, 3.9169e-15, 1.3639e-03, 2.2884e-15,\n",
       "         5.9576e-17, 3.3681e-07, 5.9034e-09],\n",
       "        [5.2381e-12, 7.0611e-14, 1.5667e-06, 1.3203e-11, 2.0420e-14, 1.1506e-06,\n",
       "         2.9485e-16, 7.5800e-16, 3.9393e-07, 4.4392e-12, 1.6487e-08, 6.8902e-11,\n",
       "         3.4175e-02, 2.3332e-10, 2.5789e-07, 2.1515e-06, 9.5185e-01, 2.0635e-05,\n",
       "         5.2858e-07, 4.8082e-09, 4.9042e-12, 1.1066e-13, 6.0188e-03, 4.4691e-15,\n",
       "         2.9171e-12, 7.8979e-03, 3.5655e-05],\n",
       "        [8.7871e-10, 2.0438e-08, 2.1927e-11, 1.8192e-09, 2.0534e-13, 2.4275e-09,\n",
       "         1.3570e-14, 1.6907e-15, 2.4129e-13, 3.8859e-16, 1.2771e-07, 2.3570e-13,\n",
       "         2.1115e-08, 4.1806e-13, 5.0474e-10, 6.0978e-15, 9.9999e-01, 2.8535e-07,\n",
       "         4.3678e-11, 6.9756e-12, 2.5899e-11, 2.2088e-18, 1.1493e-05, 1.2475e-09,\n",
       "         3.7515e-14, 9.0798e-12, 8.2850e-13],\n",
       "        [4.7457e-13, 8.7457e-10, 4.8305e-10, 1.4939e-10, 5.8716e-13, 1.1554e-05,\n",
       "         3.5012e-15, 2.2147e-11, 1.4545e-10, 4.6966e-13, 6.6140e-09, 6.7730e-10,\n",
       "         7.4769e-04, 9.3627e-11, 2.5790e-10, 5.4685e-09, 1.0585e-04, 9.9913e-01,\n",
       "         1.4091e-09, 2.0484e-09, 1.7344e-09, 6.9868e-12, 3.6781e-08, 3.5692e-12,\n",
       "         1.9586e-09, 6.7400e-09, 5.8861e-11],\n",
       "        [1.4616e-04, 3.5440e-06, 9.3983e-07, 1.0128e-01, 2.1622e-08, 1.8031e-04,\n",
       "         2.8244e-08, 5.4592e-10, 4.5916e-13, 3.0577e-11, 4.3499e-04, 1.1802e-03,\n",
       "         1.2103e-01, 5.3123e-07, 1.0557e-05, 4.2715e-09, 2.5693e-01, 1.4311e-02,\n",
       "         5.0093e-01, 2.6923e-03, 4.1850e-08, 1.0755e-08, 8.6709e-04, 1.0356e-07,\n",
       "         1.9983e-08, 9.5897e-08, 5.3842e-09],\n",
       "        [1.6527e-06, 8.5318e-07, 7.2808e-09, 2.7727e-04, 6.6629e-11, 1.3505e-04,\n",
       "         2.3057e-10, 3.5606e-10, 3.4744e-13, 6.2841e-13, 3.1406e-06, 2.3001e-03,\n",
       "         1.6936e-01, 3.4796e-05, 1.9229e-08, 2.0272e-08, 2.2356e-05, 8.2722e-01,\n",
       "         5.7049e-04, 7.1847e-05, 3.1045e-08, 2.0139e-07, 2.7134e-06, 1.3845e-08,\n",
       "         8.3274e-08, 2.8408e-08, 3.6358e-09],\n",
       "        [8.2570e-01, 3.2305e-06, 1.2276e-09, 8.2193e-05, 2.6277e-09, 6.6966e-09,\n",
       "         9.0660e-09, 1.7745e-13, 4.8152e-14, 5.8657e-14, 7.6211e-05, 2.1752e-03,\n",
       "         1.4482e-04, 2.0683e-07, 2.5760e-05, 1.0703e-12, 1.9403e-04, 1.9743e-07,\n",
       "         1.7022e-01, 2.5336e-07, 2.9194e-09, 4.3887e-11, 1.3571e-03, 2.5750e-05,\n",
       "         6.9027e-10, 6.2004e-09, 5.1474e-11],\n",
       "        [1.0534e-08, 6.6226e-08, 2.6416e-05, 1.1333e-03, 1.1344e-08, 8.7139e-03,\n",
       "         6.8758e-10, 5.0005e-08, 9.0871e-11, 1.5877e-08, 3.0058e-06, 3.3800e-06,\n",
       "         6.4577e-01, 3.1892e-06, 2.0442e-07, 1.8713e-07, 1.1518e-04, 2.4203e-01,\n",
       "         8.8166e-03, 6.8722e-05, 7.1584e-07, 2.7911e-05, 9.2856e-02, 2.1880e-09,\n",
       "         3.9569e-05, 3.8342e-04, 5.2825e-09],\n",
       "        [1.4616e-04, 3.5440e-06, 9.3983e-07, 1.0128e-01, 2.1622e-08, 1.8031e-04,\n",
       "         2.8244e-08, 5.4592e-10, 4.5916e-13, 3.0577e-11, 4.3499e-04, 1.1802e-03,\n",
       "         1.2103e-01, 5.3123e-07, 1.0557e-05, 4.2715e-09, 2.5693e-01, 1.4311e-02,\n",
       "         5.0093e-01, 2.6923e-03, 4.1850e-08, 1.0755e-08, 8.6709e-04, 1.0356e-07,\n",
       "         1.9983e-08, 9.5897e-08, 5.3842e-09],\n",
       "        [1.0551e-02, 1.8251e-05, 2.4693e-05, 4.3611e-04, 6.4536e-07, 5.0884e-06,\n",
       "         1.5797e-08, 1.3481e-11, 1.4997e-12, 3.8137e-10, 1.4902e-03, 3.8832e-07,\n",
       "         4.0865e-05, 1.4372e-10, 1.0226e-03, 4.1345e-10, 5.6416e-01, 3.8400e-07,\n",
       "         4.1129e-01, 1.9166e-06, 2.1811e-08, 1.6275e-13, 1.0939e-02, 1.0063e-05,\n",
       "         8.7540e-11, 3.4414e-07, 9.1987e-11],\n",
       "        [3.6612e-07, 9.9472e-01, 5.8460e-06, 3.3961e-11, 1.6567e-09, 2.0183e-07,\n",
       "         4.4339e-18, 1.1643e-10, 1.3180e-10, 1.9228e-16, 2.6786e-07, 4.4299e-06,\n",
       "         7.0405e-07, 1.1573e-07, 5.3916e-07, 7.9210e-07, 6.2248e-10, 1.1897e-03,\n",
       "         3.5543e-11, 1.0881e-07, 4.0702e-03, 8.2655e-11, 2.6897e-06, 3.6578e-06,\n",
       "         1.2109e-09, 1.0252e-08, 9.1249e-11],\n",
       "        [1.6953e-07, 7.7818e-08, 3.8426e-11, 2.0240e-06, 2.2833e-08, 5.4592e-05,\n",
       "         3.0111e-06, 2.0105e-10, 1.9998e-05, 3.1496e-10, 4.5449e-04, 1.2324e-04,\n",
       "         5.5113e-05, 4.1681e-02, 2.8825e-06, 4.9373e-14, 2.2168e-01, 7.6665e-02,\n",
       "         1.2257e-07, 1.1487e-08, 2.2103e-08, 9.0059e-04, 6.5788e-01, 2.5886e-04,\n",
       "         1.1646e-07, 8.3833e-05, 1.3823e-04],\n",
       "        [5.5214e-04, 2.7433e-11, 2.8422e-08, 4.5577e-09, 5.5620e-08, 4.8791e-09,\n",
       "         5.6427e-11, 2.0551e-17, 9.0853e-07, 2.0674e-12, 2.3070e-07, 1.7114e-05,\n",
       "         3.2491e-03, 9.9459e-06, 3.6883e-05, 1.7081e-08, 2.8483e-03, 2.7044e-09,\n",
       "         5.7662e-01, 1.4782e-10, 5.8210e-11, 2.2607e-08, 2.0652e-02, 2.6743e-12,\n",
       "         4.2430e-10, 3.9601e-01, 1.0869e-06],\n",
       "        [1.5172e-10, 1.7119e-01, 7.3607e-11, 3.7142e-14, 3.8895e-13, 3.2042e-04,\n",
       "         5.5926e-14, 6.9981e-11, 1.4192e-06, 2.3792e-15, 1.3622e-10, 4.2186e-04,\n",
       "         9.5296e-06, 5.7820e-01, 1.7902e-14, 2.2997e-10, 5.9551e-14, 4.7670e-05,\n",
       "         1.2335e-16, 4.1416e-10, 8.8502e-06, 2.4979e-01, 3.1435e-10, 1.2453e-08,\n",
       "         2.0138e-05, 4.8684e-09, 3.2652e-08],\n",
       "        [8.2700e-05, 5.4768e-10, 7.4935e-15, 1.7180e-11, 9.5685e-10, 1.0746e-08,\n",
       "         4.0120e-08, 7.0202e-18, 1.2987e-09, 6.8289e-18, 3.6867e-09, 4.6274e-02,\n",
       "         3.3233e-10, 9.3568e-01, 1.9580e-11, 4.7216e-20, 3.1592e-08, 6.0905e-15,\n",
       "         4.1603e-11, 2.2535e-12, 5.5403e-11, 1.7093e-07, 1.7962e-02, 5.6254e-07,\n",
       "         1.1088e-09, 3.6335e-12, 7.3794e-14],\n",
       "        [1.6862e-12, 2.9476e-14, 3.2309e-04, 4.7443e-12, 7.6551e-03, 8.3412e-09,\n",
       "         3.4390e-11, 8.9127e-10, 6.6229e-05, 3.4982e-07, 1.7186e-09, 5.6173e-09,\n",
       "         3.0352e-07, 3.2924e-08, 5.7650e-08, 3.6485e-12, 6.5016e-09, 2.6362e-13,\n",
       "         8.6222e-06, 1.2192e-10, 2.6385e-03, 5.7257e-06, 1.1014e-01, 1.3168e-10,\n",
       "         7.9670e-10, 8.7916e-01, 6.9732e-12],\n",
       "        [5.9357e-14, 1.7814e-17, 7.9312e-10, 1.4212e-10, 2.1420e-13, 4.2522e-07,\n",
       "         1.3992e-13, 7.2929e-15, 5.8861e-06, 3.1834e-11, 1.7218e-08, 1.6763e-13,\n",
       "         1.3199e-07, 6.9597e-09, 3.4837e-10, 2.4882e-10, 9.5829e-04, 6.8452e-08,\n",
       "         3.3853e-10, 8.6361e-11, 1.1993e-14, 2.7326e-08, 9.9105e-01, 2.5880e-13,\n",
       "         2.2132e-10, 7.9837e-03, 1.2594e-07],\n",
       "        [1.4616e-04, 3.5440e-06, 9.3983e-07, 1.0128e-01, 2.1622e-08, 1.8031e-04,\n",
       "         2.8244e-08, 5.4592e-10, 4.5916e-13, 3.0577e-11, 4.3499e-04, 1.1802e-03,\n",
       "         1.2103e-01, 5.3123e-07, 1.0557e-05, 4.2715e-09, 2.5693e-01, 1.4311e-02,\n",
       "         5.0093e-01, 2.6923e-03, 4.1850e-08, 1.0755e-08, 8.6709e-04, 1.0356e-07,\n",
       "         1.9983e-08, 9.5897e-08, 5.3842e-09],\n",
       "        [1.2315e-05, 6.9786e-01, 1.1309e-08, 1.7355e-11, 6.4774e-09, 2.4992e-07,\n",
       "         7.8236e-15, 4.6193e-12, 4.8953e-13, 2.4482e-16, 1.3770e-07, 3.0163e-01,\n",
       "         4.4826e-07, 2.3400e-04, 1.1197e-07, 6.1636e-09, 3.4302e-10, 1.6486e-04,\n",
       "         1.6635e-09, 4.6285e-07, 9.3105e-05, 1.3677e-07, 2.3567e-06, 1.1460e-07,\n",
       "         2.7953e-09, 2.5176e-09, 1.5300e-11],\n",
       "        [2.5381e-02, 7.8012e-03, 1.5510e-08, 1.4299e-09, 2.2372e-07, 5.1301e-10,\n",
       "         1.8164e-13, 8.0270e-15, 7.0320e-10, 3.2426e-13, 2.9094e-02, 2.5863e-04,\n",
       "         4.2324e-07, 2.7468e-06, 2.0731e-05, 1.5686e-12, 1.2023e-04, 9.5659e-11,\n",
       "         5.6412e-06, 1.7596e-09, 1.5609e-05, 6.0383e-11, 1.2704e-04, 9.3703e-01,\n",
       "         1.2871e-05, 1.3069e-04, 2.2307e-07],\n",
       "        [8.4068e-22, 8.4252e-20, 2.4120e-13, 3.8418e-19, 1.4118e-12, 2.0790e-14,\n",
       "         9.0357e-22, 4.0590e-19, 3.9703e-12, 3.7929e-17, 2.0585e-12, 1.2255e-22,\n",
       "         6.7449e-13, 1.8749e-14, 4.0565e-16, 3.7571e-18, 2.1885e-10, 2.4723e-17,\n",
       "         8.0624e-18, 5.9828e-16, 1.1435e-14, 6.4625e-14, 1.0000e+00, 5.2045e-19,\n",
       "         1.4029e-13, 3.0281e-08, 1.1366e-15],\n",
       "        [2.5854e-13, 4.3824e-18, 1.6717e-10, 1.3340e-15, 9.1356e-15, 6.5002e-11,\n",
       "         4.6704e-15, 3.8226e-17, 1.5104e-07, 1.2930e-15, 3.0684e-08, 2.0234e-12,\n",
       "         2.1731e-08, 7.2241e-12, 1.3300e-07, 2.6683e-11, 9.9449e-01, 4.5443e-07,\n",
       "         8.1134e-08, 1.0809e-11, 5.1606e-16, 1.9604e-12, 5.4675e-03, 1.9346e-14,\n",
       "         4.7529e-14, 1.6470e-05, 2.0785e-05],\n",
       "        [5.3470e-09, 5.2515e-14, 8.9191e-07, 9.0329e-09, 1.0467e-09, 1.0711e-07,\n",
       "         4.3604e-13, 3.9306e-15, 2.7911e-12, 1.3763e-10, 4.2348e-08, 9.1796e-14,\n",
       "         1.9372e-05, 6.3236e-11, 4.1723e-04, 1.5688e-13, 8.5181e-01, 8.9196e-10,\n",
       "         1.2755e-01, 2.8689e-10, 9.4110e-13, 2.5739e-15, 1.9988e-02, 5.8349e-13,\n",
       "         3.1241e-12, 2.0864e-04, 1.7874e-08],\n",
       "        [3.7133e-12, 1.7547e-08, 1.3648e-07, 1.0903e-08, 1.3049e-11, 7.0938e-05,\n",
       "         5.1920e-14, 1.2552e-09, 3.9756e-10, 1.8257e-10, 1.9994e-08, 4.8031e-09,\n",
       "         1.4515e-02, 2.9363e-10, 2.0930e-09, 9.5382e-08, 6.4327e-05, 9.8535e-01,\n",
       "         1.7897e-07, 4.3980e-07, 1.0600e-07, 6.4345e-10, 2.1795e-06, 3.8261e-11,\n",
       "         3.5214e-08, 3.2270e-07, 1.9250e-10]])"
      ]
     },
     "execution_count": 32,
     "metadata": {},
     "output_type": "execute_result"
    }
   ],
   "source": [
    "probs"
   ]
  },
  {
   "cell_type": "code",
   "execution_count": 46,
   "metadata": {},
   "outputs": [
    {
     "data": {
      "text/plain": [
       "torch.Size([27, 2])"
      ]
     },
     "execution_count": 46,
     "metadata": {},
     "output_type": "execute_result"
    }
   ],
   "source": [
    "C.shape"
   ]
  },
  {
   "cell_type": "code",
   "execution_count": 47,
   "metadata": {},
   "outputs": [
    {
     "data": {
      "text/plain": [
       "torch.Size([32, 3])"
      ]
     },
     "execution_count": 47,
     "metadata": {},
     "output_type": "execute_result"
    }
   ],
   "source": [
    "X.shape"
   ]
  },
  {
   "cell_type": "code",
   "execution_count": 34,
   "metadata": {},
   "outputs": [],
   "source": [
    "loss = -probs[torch.arange(32), Y].log().mean()"
   ]
  },
  {
   "cell_type": "code",
   "execution_count": 35,
   "metadata": {},
   "outputs": [
    {
     "data": {
      "text/plain": [
       "tensor(18.6343)"
      ]
     },
     "execution_count": 35,
     "metadata": {},
     "output_type": "execute_result"
    }
   ],
   "source": [
    "loss"
   ]
  },
  {
   "cell_type": "code",
   "execution_count": 41,
   "metadata": {},
   "outputs": [],
   "source": [
    "g = torch.Generator().manual_seed(214748364)\n",
    "C = torch.randn((27, 2), generator=g)\n",
    "W1 = torch.randn((6, 100), generator=g)\n",
    "b1 = torch.randn(100, generator=g)\n",
    "W2 = torch.randn((100, 27), generator=g)\n",
    "b2 = torch.randn(27, generator=g)\n",
    "parameters = [C, W1, b1, W2, b2]"
   ]
  },
  {
   "cell_type": "code",
   "execution_count": 42,
   "metadata": {},
   "outputs": [
    {
     "data": {
      "text/plain": [
       "3481"
      ]
     },
     "execution_count": 42,
     "metadata": {},
     "output_type": "execute_result"
    }
   ],
   "source": [
    "sum(p.nelement() for p in parameters)"
   ]
  },
  {
   "cell_type": "code",
   "execution_count": 43,
   "metadata": {},
   "outputs": [
    {
     "data": {
      "text/plain": [
       "tensor(18.3554)"
      ]
     },
     "execution_count": 43,
     "metadata": {},
     "output_type": "execute_result"
    }
   ],
   "source": [
    "emb = C[X] # (32, 3, 2)\n",
    "h = torch.tanh(emb.view(-1, 6) @ W1 + b1) # (32, 100)\n",
    "logits = h @ W2 + b2 # (32, 27)\n",
    "counts = logits.exp()\n",
    "probs = counts / counts.sum(dim=1, keepdim=True)\n",
    "loss = -probs[torch.arange(32), Y].log().mean()\n",
    "loss"
   ]
  },
  {
   "cell_type": "code",
   "execution_count": 48,
   "metadata": {},
   "outputs": [],
   "source": [
    "for p in parameters:\n",
    "    p.requires_grad = True"
   ]
  },
  {
   "cell_type": "code",
   "execution_count": 53,
   "metadata": {},
   "outputs": [
    {
     "name": "stdout",
     "output_type": "stream",
     "text": [
      "0.255113422870636\n"
     ]
    }
   ],
   "source": [
    "for _ in range(1000):\n",
    "    # forward pass\n",
    "    emb = C[X] # (32, 3, 2)\n",
    "    h = torch.tanh(emb.view(-1, 6) @ W1 + b1) # (32, 100)\n",
    "    logits = h @ W2 + b2 # (32, 27)\n",
    "    loss = F.cross_entropy(logits, Y)\n",
    "    # backward pass\n",
    "    for p in parameters:\n",
    "        p.grad = None\n",
    "\n",
    "    loss.backward()\n",
    "\n",
    "    for p in parameters:\n",
    "        p.data += -0.1 * p.grad\n",
    "\n",
    "print(loss.item())\n"
   ]
  },
  {
   "cell_type": "markdown",
   "metadata": {},
   "source": [
    "We are overfitting the model as we are training the model with 32 samples. We have 3481 parameters for just 32 samples. \n"
   ]
  },
  {
   "cell_type": "code",
   "execution_count": 55,
   "metadata": {},
   "outputs": [
    {
     "data": {
      "text/plain": [
       "torch.return_types.max(\n",
       "values=tensor([ 9.4249, 12.5891, 14.7323, 19.4710, 18.6127,  9.4249, 12.8907, 13.1190,\n",
       "        17.9546, 20.1283, 23.3903, 18.3275,  9.4249, 15.5840, 24.1034, 25.5834,\n",
       "         9.4249, 18.6257, 15.8134, 13.6158, 15.0183, 15.5503, 13.3028, 23.3301,\n",
       "        17.6208,  9.4249, 14.3309, 12.9060, 14.3814, 17.0243, 19.9461, 23.4056],\n",
       "       grad_fn=<MaxBackward0>),\n",
       "indices=tensor([ 9, 13, 13,  1,  0,  9, 12,  9, 22,  9,  1,  0,  9, 22,  1,  0,  9, 19,\n",
       "         1,  2,  5, 12, 12,  1,  0,  9, 15, 16,  8,  9,  1,  0]))"
      ]
     },
     "execution_count": 55,
     "metadata": {},
     "output_type": "execute_result"
    }
   ],
   "source": [
    "logits.max(1)"
   ]
  },
  {
   "cell_type": "code",
   "execution_count": 56,
   "metadata": {},
   "outputs": [
    {
     "data": {
      "text/plain": [
       "tensor([ 5, 13, 13,  1,  0, 15, 12,  9, 22,  9,  1,  0,  1, 22,  1,  0,  9, 19,\n",
       "         1,  2,  5, 12, 12,  1,  0, 19, 15, 16,  8,  9,  1,  0])"
      ]
     },
     "execution_count": 56,
     "metadata": {},
     "output_type": "execute_result"
    }
   ],
   "source": [
    "Y"
   ]
  },
  {
   "cell_type": "code",
   "execution_count": 57,
   "metadata": {},
   "outputs": [],
   "source": [
    "# create the dataset with all the samples\n",
    "block_size = 3 # context length: how many characters do we take to predict the next one.\n",
    "X, Y = [], []\n",
    "\n",
    "for w in words:\n",
    "    # print(w)\n",
    "    context = [0] * block_size\n",
    "    for ch in w + \".\":\n",
    "        ix = stoi[ch]\n",
    "        X.append(context)\n",
    "        Y.append(ix)\n",
    "        # print(\"\".join(itos[i] for i in context), '--->', itos[ix])\n",
    "        context = context[1:] + [ix] # crop and append\n",
    "\n",
    "X = torch.tensor(X)\n",
    "Y = torch.tensor(Y)"
   ]
  },
  {
   "cell_type": "code",
   "execution_count": 58,
   "metadata": {},
   "outputs": [
    {
     "data": {
      "text/plain": [
       "(torch.Size([228146, 3]), torch.int64, torch.Size([228146]), torch.int64)"
      ]
     },
     "execution_count": 58,
     "metadata": {},
     "output_type": "execute_result"
    }
   ],
   "source": [
    "X.shape, X.dtype, Y.shape, Y.dtype"
   ]
  },
  {
   "cell_type": "code",
   "execution_count": 104,
   "metadata": {},
   "outputs": [],
   "source": [
    "g = torch.Generator().manual_seed(214748364)\n",
    "C = torch.randn((27, 2), generator=g)\n",
    "W1 = torch.randn((6, 100), generator=g)\n",
    "b1 = torch.randn(100, generator=g)\n",
    "W2 = torch.randn((100, 27), generator=g)\n",
    "b2 = torch.randn(27, generator=g)\n",
    "parameters = [C, W1, b1, W2, b2]"
   ]
  },
  {
   "cell_type": "code",
   "execution_count": 67,
   "metadata": {},
   "outputs": [
    {
     "data": {
      "text/plain": [
       "3481"
      ]
     },
     "execution_count": 67,
     "metadata": {},
     "output_type": "execute_result"
    }
   ],
   "source": [
    "sum(p.nelement() for p in parameters)"
   ]
  },
  {
   "cell_type": "code",
   "execution_count": 105,
   "metadata": {},
   "outputs": [],
   "source": [
    "for p in parameters:\n",
    "    p.requires_grad = True"
   ]
  },
  {
   "cell_type": "code",
   "execution_count": 62,
   "metadata": {},
   "outputs": [
    {
     "ename": "KeyboardInterrupt",
     "evalue": "",
     "output_type": "error",
     "traceback": [
      "\u001b[0;31m---------------------------------------------------------------------------\u001b[0m",
      "\u001b[0;31mKeyboardInterrupt\u001b[0m                         Traceback (most recent call last)",
      "Cell \u001b[0;32mIn[62], line 11\u001b[0m\n\u001b[1;32m      8\u001b[0m \u001b[39mfor\u001b[39;00m p \u001b[39min\u001b[39;00m parameters:\n\u001b[1;32m      9\u001b[0m     p\u001b[39m.\u001b[39mgrad \u001b[39m=\u001b[39m \u001b[39mNone\u001b[39;00m\n\u001b[0;32m---> 11\u001b[0m loss\u001b[39m.\u001b[39;49mbackward()\n\u001b[1;32m     13\u001b[0m \u001b[39mfor\u001b[39;00m p \u001b[39min\u001b[39;00m parameters:\n\u001b[1;32m     14\u001b[0m     p\u001b[39m.\u001b[39mdata \u001b[39m+\u001b[39m\u001b[39m=\u001b[39m \u001b[39m-\u001b[39m\u001b[39m0.1\u001b[39m \u001b[39m*\u001b[39m p\u001b[39m.\u001b[39mgrad\n",
      "File \u001b[0;32m~/.pyenv/versions/3.10.12/envs/llm/lib/python3.10/site-packages/torch/_tensor.py:487\u001b[0m, in \u001b[0;36mTensor.backward\u001b[0;34m(self, gradient, retain_graph, create_graph, inputs)\u001b[0m\n\u001b[1;32m    477\u001b[0m \u001b[39mif\u001b[39;00m has_torch_function_unary(\u001b[39mself\u001b[39m):\n\u001b[1;32m    478\u001b[0m     \u001b[39mreturn\u001b[39;00m handle_torch_function(\n\u001b[1;32m    479\u001b[0m         Tensor\u001b[39m.\u001b[39mbackward,\n\u001b[1;32m    480\u001b[0m         (\u001b[39mself\u001b[39m,),\n\u001b[0;32m   (...)\u001b[0m\n\u001b[1;32m    485\u001b[0m         inputs\u001b[39m=\u001b[39minputs,\n\u001b[1;32m    486\u001b[0m     )\n\u001b[0;32m--> 487\u001b[0m torch\u001b[39m.\u001b[39;49mautograd\u001b[39m.\u001b[39;49mbackward(\n\u001b[1;32m    488\u001b[0m     \u001b[39mself\u001b[39;49m, gradient, retain_graph, create_graph, inputs\u001b[39m=\u001b[39;49minputs\n\u001b[1;32m    489\u001b[0m )\n",
      "File \u001b[0;32m~/.pyenv/versions/3.10.12/envs/llm/lib/python3.10/site-packages/torch/autograd/__init__.py:200\u001b[0m, in \u001b[0;36mbackward\u001b[0;34m(tensors, grad_tensors, retain_graph, create_graph, grad_variables, inputs)\u001b[0m\n\u001b[1;32m    195\u001b[0m     retain_graph \u001b[39m=\u001b[39m create_graph\n\u001b[1;32m    197\u001b[0m \u001b[39m# The reason we repeat same the comment below is that\u001b[39;00m\n\u001b[1;32m    198\u001b[0m \u001b[39m# some Python versions print out the first line of a multi-line function\u001b[39;00m\n\u001b[1;32m    199\u001b[0m \u001b[39m# calls in the traceback and some print out the last line\u001b[39;00m\n\u001b[0;32m--> 200\u001b[0m Variable\u001b[39m.\u001b[39;49m_execution_engine\u001b[39m.\u001b[39;49mrun_backward(  \u001b[39m# Calls into the C++ engine to run the backward pass\u001b[39;49;00m\n\u001b[1;32m    201\u001b[0m     tensors, grad_tensors_, retain_graph, create_graph, inputs,\n\u001b[1;32m    202\u001b[0m     allow_unreachable\u001b[39m=\u001b[39;49m\u001b[39mTrue\u001b[39;49;00m, accumulate_grad\u001b[39m=\u001b[39;49m\u001b[39mTrue\u001b[39;49;00m)\n",
      "\u001b[0;31mKeyboardInterrupt\u001b[0m: "
     ]
    }
   ],
   "source": [
    "for _ in range(1000):\n",
    "    # forward pass\n",
    "    emb = C[X] # (228146, 3, 2)\n",
    "    h = torch.tanh(emb.view(-1, 6) @ W1 + b1) # (228146, 100)\n",
    "    logits = h @ W2 + b2 # (228146, 27)\n",
    "    loss = F.cross_entropy(logits, Y)\n",
    "    # backward pass\n",
    "    for p in parameters:\n",
    "        p.grad = None\n",
    "\n",
    "    loss.backward()\n",
    "\n",
    "    for p in parameters:\n",
    "        p.data += -0.1 * p.grad\n",
    "\n",
    "print(loss.item())"
   ]
  },
  {
   "cell_type": "code",
   "execution_count": 110,
   "metadata": {},
   "outputs": [
    {
     "name": "stdout",
     "output_type": "stream",
     "text": [
      "2.535264730453491\n"
     ]
    }
   ],
   "source": [
    "# batching the dataset for faster training\n",
    "\n",
    "for _ in range(1000):\n",
    "    # construct minibatch of size 32.\n",
    "    ix = torch.randint(0, X.shape[0], (32,))\n",
    "    # forward pass\n",
    "    emb = C[X[ix]] # (32, 3, 2)\n",
    "    h = torch.tanh(emb.view(-1, 6) @ W1 + b1) # (32, 100)\n",
    "    logits = h @ W2 + b2 # (32, 27)\n",
    "    loss = F.cross_entropy(logits, Y[ix])\n",
    "    # print(loss.item())\n",
    "    # backward pass\n",
    "    for p in parameters:\n",
    "        p.grad = None\n",
    "\n",
    "    loss.backward()\n",
    "\n",
    "    for p in parameters:\n",
    "        p.data += -0.1 * p.grad\n",
    "\n",
    "print(loss.item())"
   ]
  },
  {
   "cell_type": "code",
   "execution_count": 111,
   "metadata": {},
   "outputs": [
    {
     "data": {
      "text/plain": [
       "tensor(2.5785, grad_fn=<NllLossBackward0>)"
      ]
     },
     "execution_count": 111,
     "metadata": {},
     "output_type": "execute_result"
    }
   ],
   "source": [
    "emb = C[X]\n",
    "h = torch.tanh(emb.view(-1, 6) @ W1 + b1) # (32, 100)\n",
    "logits = h @ W2 + b2 # (32, 27)\n",
    "loss = F.cross_entropy(logits, Y)\n",
    "loss"
   ]
  },
  {
   "cell_type": "code",
   "execution_count": 112,
   "metadata": {},
   "outputs": [
    {
     "data": {
      "text/plain": [
       "tensor([-3.0000, -2.9970, -2.9940, -2.9910, -2.9880, -2.9850, -2.9820, -2.9790,\n",
       "        -2.9760, -2.9730, -2.9700, -2.9670, -2.9640, -2.9610, -2.9580, -2.9550,\n",
       "        -2.9520, -2.9489, -2.9459, -2.9429, -2.9399, -2.9369, -2.9339, -2.9309,\n",
       "        -2.9279, -2.9249, -2.9219, -2.9189, -2.9159, -2.9129, -2.9099, -2.9069,\n",
       "        -2.9039, -2.9009, -2.8979, -2.8949, -2.8919, -2.8889, -2.8859, -2.8829,\n",
       "        -2.8799, -2.8769, -2.8739, -2.8709, -2.8679, -2.8649, -2.8619, -2.8589,\n",
       "        -2.8559, -2.8529, -2.8498, -2.8468, -2.8438, -2.8408, -2.8378, -2.8348,\n",
       "        -2.8318, -2.8288, -2.8258, -2.8228, -2.8198, -2.8168, -2.8138, -2.8108,\n",
       "        -2.8078, -2.8048, -2.8018, -2.7988, -2.7958, -2.7928, -2.7898, -2.7868,\n",
       "        -2.7838, -2.7808, -2.7778, -2.7748, -2.7718, -2.7688, -2.7658, -2.7628,\n",
       "        -2.7598, -2.7568, -2.7538, -2.7508, -2.7477, -2.7447, -2.7417, -2.7387,\n",
       "        -2.7357, -2.7327, -2.7297, -2.7267, -2.7237, -2.7207, -2.7177, -2.7147,\n",
       "        -2.7117, -2.7087, -2.7057, -2.7027, -2.6997, -2.6967, -2.6937, -2.6907,\n",
       "        -2.6877, -2.6847, -2.6817, -2.6787, -2.6757, -2.6727, -2.6697, -2.6667,\n",
       "        -2.6637, -2.6607, -2.6577, -2.6547, -2.6517, -2.6486, -2.6456, -2.6426,\n",
       "        -2.6396, -2.6366, -2.6336, -2.6306, -2.6276, -2.6246, -2.6216, -2.6186,\n",
       "        -2.6156, -2.6126, -2.6096, -2.6066, -2.6036, -2.6006, -2.5976, -2.5946,\n",
       "        -2.5916, -2.5886, -2.5856, -2.5826, -2.5796, -2.5766, -2.5736, -2.5706,\n",
       "        -2.5676, -2.5646, -2.5616, -2.5586, -2.5556, -2.5526, -2.5495, -2.5465,\n",
       "        -2.5435, -2.5405, -2.5375, -2.5345, -2.5315, -2.5285, -2.5255, -2.5225,\n",
       "        -2.5195, -2.5165, -2.5135, -2.5105, -2.5075, -2.5045, -2.5015, -2.4985,\n",
       "        -2.4955, -2.4925, -2.4895, -2.4865, -2.4835, -2.4805, -2.4775, -2.4745,\n",
       "        -2.4715, -2.4685, -2.4655, -2.4625, -2.4595, -2.4565, -2.4535, -2.4505,\n",
       "        -2.4474, -2.4444, -2.4414, -2.4384, -2.4354, -2.4324, -2.4294, -2.4264,\n",
       "        -2.4234, -2.4204, -2.4174, -2.4144, -2.4114, -2.4084, -2.4054, -2.4024,\n",
       "        -2.3994, -2.3964, -2.3934, -2.3904, -2.3874, -2.3844, -2.3814, -2.3784,\n",
       "        -2.3754, -2.3724, -2.3694, -2.3664, -2.3634, -2.3604, -2.3574, -2.3544,\n",
       "        -2.3514, -2.3483, -2.3453, -2.3423, -2.3393, -2.3363, -2.3333, -2.3303,\n",
       "        -2.3273, -2.3243, -2.3213, -2.3183, -2.3153, -2.3123, -2.3093, -2.3063,\n",
       "        -2.3033, -2.3003, -2.2973, -2.2943, -2.2913, -2.2883, -2.2853, -2.2823,\n",
       "        -2.2793, -2.2763, -2.2733, -2.2703, -2.2673, -2.2643, -2.2613, -2.2583,\n",
       "        -2.2553, -2.2523, -2.2492, -2.2462, -2.2432, -2.2402, -2.2372, -2.2342,\n",
       "        -2.2312, -2.2282, -2.2252, -2.2222, -2.2192, -2.2162, -2.2132, -2.2102,\n",
       "        -2.2072, -2.2042, -2.2012, -2.1982, -2.1952, -2.1922, -2.1892, -2.1862,\n",
       "        -2.1832, -2.1802, -2.1772, -2.1742, -2.1712, -2.1682, -2.1652, -2.1622,\n",
       "        -2.1592, -2.1562, -2.1532, -2.1502, -2.1471, -2.1441, -2.1411, -2.1381,\n",
       "        -2.1351, -2.1321, -2.1291, -2.1261, -2.1231, -2.1201, -2.1171, -2.1141,\n",
       "        -2.1111, -2.1081, -2.1051, -2.1021, -2.0991, -2.0961, -2.0931, -2.0901,\n",
       "        -2.0871, -2.0841, -2.0811, -2.0781, -2.0751, -2.0721, -2.0691, -2.0661,\n",
       "        -2.0631, -2.0601, -2.0571, -2.0541, -2.0511, -2.0480, -2.0450, -2.0420,\n",
       "        -2.0390, -2.0360, -2.0330, -2.0300, -2.0270, -2.0240, -2.0210, -2.0180,\n",
       "        -2.0150, -2.0120, -2.0090, -2.0060, -2.0030, -2.0000, -1.9970, -1.9940,\n",
       "        -1.9910, -1.9880, -1.9850, -1.9820, -1.9790, -1.9760, -1.9730, -1.9700,\n",
       "        -1.9670, -1.9640, -1.9610, -1.9580, -1.9550, -1.9520, -1.9489, -1.9459,\n",
       "        -1.9429, -1.9399, -1.9369, -1.9339, -1.9309, -1.9279, -1.9249, -1.9219,\n",
       "        -1.9189, -1.9159, -1.9129, -1.9099, -1.9069, -1.9039, -1.9009, -1.8979,\n",
       "        -1.8949, -1.8919, -1.8889, -1.8859, -1.8829, -1.8799, -1.8769, -1.8739,\n",
       "        -1.8709, -1.8679, -1.8649, -1.8619, -1.8589, -1.8559, -1.8529, -1.8498,\n",
       "        -1.8468, -1.8438, -1.8408, -1.8378, -1.8348, -1.8318, -1.8288, -1.8258,\n",
       "        -1.8228, -1.8198, -1.8168, -1.8138, -1.8108, -1.8078, -1.8048, -1.8018,\n",
       "        -1.7988, -1.7958, -1.7928, -1.7898, -1.7868, -1.7838, -1.7808, -1.7778,\n",
       "        -1.7748, -1.7718, -1.7688, -1.7658, -1.7628, -1.7598, -1.7568, -1.7538,\n",
       "        -1.7508, -1.7477, -1.7447, -1.7417, -1.7387, -1.7357, -1.7327, -1.7297,\n",
       "        -1.7267, -1.7237, -1.7207, -1.7177, -1.7147, -1.7117, -1.7087, -1.7057,\n",
       "        -1.7027, -1.6997, -1.6967, -1.6937, -1.6907, -1.6877, -1.6847, -1.6817,\n",
       "        -1.6787, -1.6757, -1.6727, -1.6697, -1.6667, -1.6637, -1.6607, -1.6577,\n",
       "        -1.6547, -1.6517, -1.6486, -1.6456, -1.6426, -1.6396, -1.6366, -1.6336,\n",
       "        -1.6306, -1.6276, -1.6246, -1.6216, -1.6186, -1.6156, -1.6126, -1.6096,\n",
       "        -1.6066, -1.6036, -1.6006, -1.5976, -1.5946, -1.5916, -1.5886, -1.5856,\n",
       "        -1.5826, -1.5796, -1.5766, -1.5736, -1.5706, -1.5676, -1.5646, -1.5616,\n",
       "        -1.5586, -1.5556, -1.5526, -1.5495, -1.5465, -1.5435, -1.5405, -1.5375,\n",
       "        -1.5345, -1.5315, -1.5285, -1.5255, -1.5225, -1.5195, -1.5165, -1.5135,\n",
       "        -1.5105, -1.5075, -1.5045, -1.5015, -1.4985, -1.4955, -1.4925, -1.4895,\n",
       "        -1.4865, -1.4835, -1.4805, -1.4775, -1.4745, -1.4715, -1.4685, -1.4655,\n",
       "        -1.4625, -1.4595, -1.4565, -1.4535, -1.4505, -1.4474, -1.4444, -1.4414,\n",
       "        -1.4384, -1.4354, -1.4324, -1.4294, -1.4264, -1.4234, -1.4204, -1.4174,\n",
       "        -1.4144, -1.4114, -1.4084, -1.4054, -1.4024, -1.3994, -1.3964, -1.3934,\n",
       "        -1.3904, -1.3874, -1.3844, -1.3814, -1.3784, -1.3754, -1.3724, -1.3694,\n",
       "        -1.3664, -1.3634, -1.3604, -1.3574, -1.3544, -1.3514, -1.3483, -1.3453,\n",
       "        -1.3423, -1.3393, -1.3363, -1.3333, -1.3303, -1.3273, -1.3243, -1.3213,\n",
       "        -1.3183, -1.3153, -1.3123, -1.3093, -1.3063, -1.3033, -1.3003, -1.2973,\n",
       "        -1.2943, -1.2913, -1.2883, -1.2853, -1.2823, -1.2793, -1.2763, -1.2733,\n",
       "        -1.2703, -1.2673, -1.2643, -1.2613, -1.2583, -1.2553, -1.2523, -1.2492,\n",
       "        -1.2462, -1.2432, -1.2402, -1.2372, -1.2342, -1.2312, -1.2282, -1.2252,\n",
       "        -1.2222, -1.2192, -1.2162, -1.2132, -1.2102, -1.2072, -1.2042, -1.2012,\n",
       "        -1.1982, -1.1952, -1.1922, -1.1892, -1.1862, -1.1832, -1.1802, -1.1772,\n",
       "        -1.1742, -1.1712, -1.1682, -1.1652, -1.1622, -1.1592, -1.1562, -1.1532,\n",
       "        -1.1502, -1.1471, -1.1441, -1.1411, -1.1381, -1.1351, -1.1321, -1.1291,\n",
       "        -1.1261, -1.1231, -1.1201, -1.1171, -1.1141, -1.1111, -1.1081, -1.1051,\n",
       "        -1.1021, -1.0991, -1.0961, -1.0931, -1.0901, -1.0871, -1.0841, -1.0811,\n",
       "        -1.0781, -1.0751, -1.0721, -1.0691, -1.0661, -1.0631, -1.0601, -1.0571,\n",
       "        -1.0541, -1.0511, -1.0480, -1.0450, -1.0420, -1.0390, -1.0360, -1.0330,\n",
       "        -1.0300, -1.0270, -1.0240, -1.0210, -1.0180, -1.0150, -1.0120, -1.0090,\n",
       "        -1.0060, -1.0030, -1.0000, -0.9970, -0.9940, -0.9910, -0.9880, -0.9850,\n",
       "        -0.9820, -0.9790, -0.9760, -0.9730, -0.9700, -0.9670, -0.9640, -0.9610,\n",
       "        -0.9580, -0.9550, -0.9520, -0.9489, -0.9459, -0.9429, -0.9399, -0.9369,\n",
       "        -0.9339, -0.9309, -0.9279, -0.9249, -0.9219, -0.9189, -0.9159, -0.9129,\n",
       "        -0.9099, -0.9069, -0.9039, -0.9009, -0.8979, -0.8949, -0.8919, -0.8889,\n",
       "        -0.8859, -0.8829, -0.8799, -0.8769, -0.8739, -0.8709, -0.8679, -0.8649,\n",
       "        -0.8619, -0.8589, -0.8559, -0.8529, -0.8498, -0.8468, -0.8438, -0.8408,\n",
       "        -0.8378, -0.8348, -0.8318, -0.8288, -0.8258, -0.8228, -0.8198, -0.8168,\n",
       "        -0.8138, -0.8108, -0.8078, -0.8048, -0.8018, -0.7988, -0.7958, -0.7928,\n",
       "        -0.7898, -0.7868, -0.7838, -0.7808, -0.7778, -0.7748, -0.7718, -0.7688,\n",
       "        -0.7658, -0.7628, -0.7598, -0.7568, -0.7538, -0.7508, -0.7477, -0.7447,\n",
       "        -0.7417, -0.7387, -0.7357, -0.7327, -0.7297, -0.7267, -0.7237, -0.7207,\n",
       "        -0.7177, -0.7147, -0.7117, -0.7087, -0.7057, -0.7027, -0.6997, -0.6967,\n",
       "        -0.6937, -0.6907, -0.6877, -0.6847, -0.6817, -0.6787, -0.6757, -0.6727,\n",
       "        -0.6697, -0.6667, -0.6637, -0.6607, -0.6577, -0.6547, -0.6517, -0.6486,\n",
       "        -0.6456, -0.6426, -0.6396, -0.6366, -0.6336, -0.6306, -0.6276, -0.6246,\n",
       "        -0.6216, -0.6186, -0.6156, -0.6126, -0.6096, -0.6066, -0.6036, -0.6006,\n",
       "        -0.5976, -0.5946, -0.5916, -0.5886, -0.5856, -0.5826, -0.5796, -0.5766,\n",
       "        -0.5736, -0.5706, -0.5676, -0.5646, -0.5616, -0.5586, -0.5556, -0.5526,\n",
       "        -0.5495, -0.5465, -0.5435, -0.5405, -0.5375, -0.5345, -0.5315, -0.5285,\n",
       "        -0.5255, -0.5225, -0.5195, -0.5165, -0.5135, -0.5105, -0.5075, -0.5045,\n",
       "        -0.5015, -0.4985, -0.4955, -0.4925, -0.4895, -0.4865, -0.4835, -0.4805,\n",
       "        -0.4775, -0.4745, -0.4715, -0.4685, -0.4655, -0.4625, -0.4595, -0.4565,\n",
       "        -0.4535, -0.4505, -0.4474, -0.4444, -0.4414, -0.4384, -0.4354, -0.4324,\n",
       "        -0.4294, -0.4264, -0.4234, -0.4204, -0.4174, -0.4144, -0.4114, -0.4084,\n",
       "        -0.4054, -0.4024, -0.3994, -0.3964, -0.3934, -0.3904, -0.3874, -0.3844,\n",
       "        -0.3814, -0.3784, -0.3754, -0.3724, -0.3694, -0.3664, -0.3634, -0.3604,\n",
       "        -0.3574, -0.3544, -0.3514, -0.3483, -0.3453, -0.3423, -0.3393, -0.3363,\n",
       "        -0.3333, -0.3303, -0.3273, -0.3243, -0.3213, -0.3183, -0.3153, -0.3123,\n",
       "        -0.3093, -0.3063, -0.3033, -0.3003, -0.2973, -0.2943, -0.2913, -0.2883,\n",
       "        -0.2853, -0.2823, -0.2793, -0.2763, -0.2733, -0.2703, -0.2673, -0.2643,\n",
       "        -0.2613, -0.2583, -0.2553, -0.2523, -0.2492, -0.2462, -0.2432, -0.2402,\n",
       "        -0.2372, -0.2342, -0.2312, -0.2282, -0.2252, -0.2222, -0.2192, -0.2162,\n",
       "        -0.2132, -0.2102, -0.2072, -0.2042, -0.2012, -0.1982, -0.1952, -0.1922,\n",
       "        -0.1892, -0.1862, -0.1832, -0.1802, -0.1772, -0.1742, -0.1712, -0.1682,\n",
       "        -0.1652, -0.1622, -0.1592, -0.1562, -0.1532, -0.1502, -0.1471, -0.1441,\n",
       "        -0.1411, -0.1381, -0.1351, -0.1321, -0.1291, -0.1261, -0.1231, -0.1201,\n",
       "        -0.1171, -0.1141, -0.1111, -0.1081, -0.1051, -0.1021, -0.0991, -0.0961,\n",
       "        -0.0931, -0.0901, -0.0871, -0.0841, -0.0811, -0.0781, -0.0751, -0.0721,\n",
       "        -0.0691, -0.0661, -0.0631, -0.0601, -0.0571, -0.0541, -0.0511, -0.0480,\n",
       "        -0.0450, -0.0420, -0.0390, -0.0360, -0.0330, -0.0300, -0.0270, -0.0240,\n",
       "        -0.0210, -0.0180, -0.0150, -0.0120, -0.0090, -0.0060, -0.0030,  0.0000])"
      ]
     },
     "execution_count": 112,
     "metadata": {},
     "output_type": "execute_result"
    }
   ],
   "source": [
    "lre = torch.linspace(-3, 0, 1000)\n",
    "lre"
   ]
  },
  {
   "cell_type": "code",
   "execution_count": 117,
   "metadata": {},
   "outputs": [
    {
     "data": {
      "text/plain": [
       "1000"
      ]
     },
     "execution_count": 117,
     "metadata": {},
     "output_type": "execute_result"
    }
   ],
   "source": [
    "lrs = 10 ** lre\n",
    "len(lrs)"
   ]
  },
  {
   "cell_type": "code",
   "execution_count": 120,
   "metadata": {},
   "outputs": [],
   "source": [
    "# How to determine learning rate.\n",
    "g = torch.Generator().manual_seed(214748364)\n",
    "C = torch.randn((27, 2), generator=g)\n",
    "W1 = torch.randn((6, 100), generator=g)\n",
    "b1 = torch.randn(100, generator=g)\n",
    "W2 = torch.randn((100, 27), generator=g)\n",
    "b2 = torch.randn(27, generator=g)\n",
    "parameters = [C, W1, b1, W2, b2]\n",
    "\n",
    "for p in parameters:\n",
    "    p.requires_grad = True\n",
    "\n",
    "lre = torch.linspace(-3, 0, 1000) # (10 ** -3 = 0.001, 10 ** 0 = 1, lr from 0.001 - 1)\n",
    "lrs = 10**lre \n",
    "\n",
    "lri = []\n",
    "lossi = []\n",
    "lrei = []\n",
    "for i in range(1000):\n",
    "    # construct minibatch of size 32.\n",
    "    ix = torch.randint(0, X.shape[0], (32,))\n",
    "    # forward pass\n",
    "    emb = C[X[ix]] # (32, 3, 2)\n",
    "    h = torch.tanh(emb.view(-1, 6) @ W1 + b1) # (32, 100)\n",
    "    logits = h @ W2 + b2 # (32, 27)\n",
    "    loss = F.cross_entropy(logits, Y[ix])\n",
    "    # print(loss.item())\n",
    "    # backward pass\n",
    "    for p in parameters:\n",
    "        p.grad = None\n",
    "\n",
    "    loss.backward()\n",
    "\n",
    "    lr = lrs[i]\n",
    "    for p in parameters:\n",
    "        p.data += -lr * p.grad\n",
    "\n",
    "    lri.append(lr)\n",
    "    lrei.append(lre[i])\n",
    "    lossi.append(loss.item())\n"
   ]
  },
  {
   "cell_type": "code",
   "execution_count": 121,
   "metadata": {},
   "outputs": [
    {
     "data": {
      "text/plain": [
       "[<matplotlib.lines.Line2D at 0x12fd27760>]"
      ]
     },
     "execution_count": 121,
     "metadata": {},
     "output_type": "execute_result"
    },
    {
     "data": {
      "image/png": "[encoded data removed]",
      "text/plain": [
       "<Figure size 640x480 with 1 Axes>"
      ]
     },
     "metadata": {},
     "output_type": "display_data"
    }
   ],
   "source": [
    "# From the above plot the best learning rate is between 0.1 - 0.2\n",
    "plt.plot(lri, lossi)\n"
   ]
  },
  {
   "cell_type": "code",
   "execution_count": 122,
   "metadata": {},
   "outputs": [
    {
     "data": {
      "text/plain": [
       "[<matplotlib.lines.Line2D at 0x12d2ab910>]"
      ]
     },
     "execution_count": 122,
     "metadata": {},
     "output_type": "execute_result"
    },
    {
     "data": {
      "image/png": "[encoded data removed]",
      "text/plain": [
       "<Figure size 640x480 with 1 Axes>"
      ]
     },
     "metadata": {},
     "output_type": "display_data"
    }
   ],
   "source": [
    "plt.plot(lrei, lossi)"
   ]
  },
  {
   "cell_type": "code",
   "execution_count": 125,
   "metadata": {},
   "outputs": [
    {
     "name": "stdout",
     "output_type": "stream",
     "text": [
      "2.510084390640259\n"
     ]
    }
   ],
   "source": [
    "g = torch.Generator().manual_seed(214748364)\n",
    "C = torch.randn((27, 2), generator=g)\n",
    "W1 = torch.randn((6, 100), generator=g)\n",
    "b1 = torch.randn(100, generator=g)\n",
    "W2 = torch.randn((100, 27), generator=g)\n",
    "b2 = torch.randn(27, generator=g)\n",
    "parameters = [C, W1, b1, W2, b2]\n",
    "\n",
    "for p in parameters:\n",
    "    p.requires_grad = True\n",
    "\n",
    "for i in range(10000):\n",
    "    # construct minibatch of size 32.\n",
    "    ix = torch.randint(0, X.shape[0], (32,))\n",
    "    # forward pass\n",
    "    emb = C[X[ix]] # (32, 3, 2)\n",
    "    h = torch.tanh(emb.view(-1, 6) @ W1 + b1) # (32, 100)\n",
    "    logits = h @ W2 + b2 # (32, 27)\n",
    "    loss = F.cross_entropy(logits, Y[ix])\n",
    "    # print(loss.item())\n",
    "    # backward pass\n",
    "    for p in parameters:\n",
    "        p.grad = None\n",
    "\n",
    "    loss.backward()\n",
    "\n",
    "    for p in parameters:\n",
    "        p.data += -0.1 * p.grad\n",
    "\n",
    "print(loss.item())"
   ]
  },
  {
   "cell_type": "code",
   "execution_count": 126,
   "metadata": {},
   "outputs": [
    {
     "data": {
      "text/plain": [
       "tensor(2.4247, grad_fn=<NllLossBackward0>)"
      ]
     },
     "execution_count": 126,
     "metadata": {},
     "output_type": "execute_result"
    }
   ],
   "source": [
    "emb = C[X]\n",
    "h = torch.tanh(emb.view(-1, 6) @ W1 + b1) # (32, 100)\n",
    "logits = h @ W2 + b2 # (32, 27)\n",
    "loss = F.cross_entropy(logits, Y)\n",
    "loss"
   ]
  },
  {
   "cell_type": "code",
   "execution_count": 127,
   "metadata": {},
   "outputs": [
    {
     "name": "stdout",
     "output_type": "stream",
     "text": [
      "torch.Size([182460, 3]) torch.Size([182460])\n",
      "torch.Size([22811, 3]) torch.Size([22811])\n",
      "torch.Size([22875, 3]) torch.Size([22875])\n"
     ]
    }
   ],
   "source": [
    "# split into training, validation and test dataset\n",
    "def build_dataset(words):\n",
    "    block_size = 3 # context length: how many characters do we take to predict the next one.\n",
    "    X, Y = [], []\n",
    "\n",
    "    for w in words:\n",
    "        # print(w)\n",
    "        context = [0] * block_size\n",
    "        for ch in w + \".\":\n",
    "            ix = stoi[ch]\n",
    "            X.append(context)\n",
    "            Y.append(ix)\n",
    "            # print(\"\".join(itos[i] for i in context), '--->', itos[ix])\n",
    "            context = context[1:] + [ix] # crop and append\n",
    "\n",
    "    X = torch.tensor(X)\n",
    "    Y = torch.tensor(Y)\n",
    "    print(X.shape, Y.shape)\n",
    "    return X, Y\n",
    "\n",
    "import random\n",
    "random.seed(43)\n",
    "random.shuffle(words)\n",
    "n1 = int(0.8 * len(words))\n",
    "n2 = int(0.9 * len(words))\n",
    "\n",
    "Xtr, Ytr = build_dataset(words[:n1])\n",
    "Xdev, Ydev = build_dataset(words[n1:n2])\n",
    "Xte, Yte = build_dataset(words[n2:])"
   ]
  },
  {
   "cell_type": "code",
   "execution_count": 128,
   "metadata": {},
   "outputs": [
    {
     "name": "stdout",
     "output_type": "stream",
     "text": [
      "2.5915658473968506\n"
     ]
    }
   ],
   "source": [
    "g = torch.Generator().manual_seed(214748364)\n",
    "C = torch.randn((27, 2), generator=g)\n",
    "W1 = torch.randn((6, 100), generator=g)\n",
    "b1 = torch.randn(100, generator=g)\n",
    "W2 = torch.randn((100, 27), generator=g)\n",
    "b2 = torch.randn(27, generator=g)\n",
    "parameters = [C, W1, b1, W2, b2]\n",
    "\n",
    "X = Xtr\n",
    "Y = Ytr\n",
    "for p in parameters:\n",
    "    p.requires_grad = True\n",
    "\n",
    "for i in range(30000):\n",
    "    # construct minibatch of size 32.\n",
    "    ix = torch.randint(0, X.shape[0], (32,))\n",
    "    # forward pass\n",
    "    emb = C[X[ix]] # (32, 3, 2)\n",
    "    h = torch.tanh(emb.view(-1, 6) @ W1 + b1) # (32, 100)\n",
    "    logits = h @ W2 + b2 # (32, 27)\n",
    "    loss = F.cross_entropy(logits, Y[ix])\n",
    "    # print(loss.item())\n",
    "    # backward pass\n",
    "    for p in parameters:\n",
    "        p.grad = None\n",
    "\n",
    "    loss.backward()\n",
    "\n",
    "    for p in parameters:\n",
    "        p.data += -0.1 * p.grad\n",
    "\n",
    "print(loss.item())"
   ]
  },
  {
   "cell_type": "code",
   "execution_count": 130,
   "metadata": {},
   "outputs": [
    {
     "data": {
      "text/plain": [
       "tensor(2.4207, grad_fn=<NllLossBackward0>)"
      ]
     },
     "execution_count": 130,
     "metadata": {},
     "output_type": "execute_result"
    }
   ],
   "source": [
    "emb = C[Xtr]\n",
    "h = torch.tanh(emb.view(-1, 6) @ W1 + b1) # (32, 100)\n",
    "logits = h @ W2 + b2 # (32, 27)\n",
    "loss = F.cross_entropy(logits, Ytr)\n",
    "loss"
   ]
  },
  {
   "cell_type": "code",
   "execution_count": 131,
   "metadata": {},
   "outputs": [
    {
     "data": {
      "text/plain": [
       "tensor(2.4522, grad_fn=<NllLossBackward0>)"
      ]
     },
     "execution_count": 131,
     "metadata": {},
     "output_type": "execute_result"
    }
   ],
   "source": [
    "emb = C[Xdev]\n",
    "h = torch.tanh(emb.view(-1, 6) @ W1 + b1) # (32, 100)\n",
    "logits = h @ W2 + b2 # (32, 27)\n",
    "loss = F.cross_entropy(logits, Ydev)\n",
    "loss"
   ]
  },
  {
   "cell_type": "code",
   "execution_count": 133,
   "metadata": {},
   "outputs": [
    {
     "name": "stdout",
     "output_type": "stream",
     "text": [
      "parameters: 10281\n",
      "2.810945987701416\n"
     ]
    }
   ],
   "source": [
    "# when the training loss and validation sample loss are close, it means the model is underfitting.\n",
    "# \n",
    "g = torch.Generator().manual_seed(214748364)\n",
    "C = torch.randn((27, 2), generator=g)\n",
    "W1 = torch.randn((6, 300), generator=g)\n",
    "b1 = torch.randn(300, generator=g)\n",
    "W2 = torch.randn((300, 27), generator=g)\n",
    "b2 = torch.randn(27, generator=g)\n",
    "parameters = [C, W1, b1, W2, b2]\n",
    "print(\"parameters:\", sum(p.nelement() for p in parameters))\n",
    "\n",
    "X = Xtr\n",
    "Y = Ytr\n",
    "for p in parameters:\n",
    "    p.requires_grad = True\n",
    "\n",
    "for i in range(30000):\n",
    "    # construct minibatch of size 32.\n",
    "    ix = torch.randint(0, X.shape[0], (32,))\n",
    "    # forward pass\n",
    "    emb = C[X[ix]] # (32, 3, 2)\n",
    "    h = torch.tanh(emb.view(-1, 6) @ W1 + b1) # (32, 300)\n",
    "    logits = h @ W2 + b2 # (32, 27)\n",
    "    loss = F.cross_entropy(logits, Y[ix])\n",
    "    # print(loss.item())\n",
    "    # backward pass\n",
    "    for p in parameters:\n",
    "        p.grad = None\n",
    "\n",
    "    loss.backward()\n",
    "\n",
    "    for p in parameters:\n",
    "        p.data += -0.1 * p.grad\n",
    "\n",
    "print(loss.item())"
   ]
  },
  {
   "cell_type": "code",
   "execution_count": 134,
   "metadata": {},
   "outputs": [
    {
     "data": {
      "text/plain": [
       "tensor(2.4977, grad_fn=<NllLossBackward0>)"
      ]
     },
     "execution_count": 134,
     "metadata": {},
     "output_type": "execute_result"
    }
   ],
   "source": [
    "emb = C[Xtr]\n",
    "h = torch.tanh(emb.view(-1, 6) @ W1 + b1) # (32, 100)\n",
    "logits = h @ W2 + b2 # (32, 27)\n",
    "loss = F.cross_entropy(logits, Ytr)\n",
    "loss"
   ]
  },
  {
   "cell_type": "code",
   "execution_count": 135,
   "metadata": {},
   "outputs": [
    {
     "data": {
      "text/plain": [
       "tensor(2.5287, grad_fn=<NllLossBackward0>)"
      ]
     },
     "execution_count": 135,
     "metadata": {},
     "output_type": "execute_result"
    }
   ],
   "source": [
    "emb = C[Xdev]\n",
    "h = torch.tanh(emb.view(-1, 6) @ W1 + b1) # (32, 100)\n",
    "logits = h @ W2 + b2 # (32, 27)\n",
    "loss = F.cross_entropy(logits, Ydev)\n",
    "loss"
   ]
  }
 ],
 "metadata": {
  "kernelspec": {
   "display_name": "llm",
   "language": "python",
   "name": "python3"
  },
  "language_info": {
   "codemirror_mode": {
    "name": "ipython",
    "version": 3
   },
   "file_extension": ".py",
   "mimetype": "text/x-python",
   "name": "python",
   "nbconvert_exporter": "python",
   "pygments_lexer": "ipython3",
   "version": "3.10.12"
  },
  "orig_nbformat": 4
 },
 "nbformat": 4,
 "nbformat_minor": 2
}
